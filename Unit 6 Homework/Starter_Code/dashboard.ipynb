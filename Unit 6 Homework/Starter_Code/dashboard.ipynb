{
 "cells": [
  {
   "cell_type": "markdown",
   "metadata": {},
   "source": [
    "# Toronto Dwellings Analysis Dashboard\n",
    "\n",
    "In this notebook, you will compile the visualizations from the previous analysis into functions to create a Panel dashboard."
   ]
  },
  {
   "cell_type": "code",
   "execution_count": null,
   "metadata": {},
   "outputs": [],
   "source": [
    "# imports\n",
    "import panel as pn\n",
    "pn.extension('plotly')\n",
    "import plotly.express as px\n",
    "import pandas as pd\n",
    "import hvplot.pandas\n",
    "import matplotlib.pyplot as plt\n",
    "import os\n",
    "from pathlib import Path\n",
    "from dotenv import load_dotenv\n",
    "import numpy as np"
   ]
  },
  {
   "cell_type": "code",
   "execution_count": null,
   "metadata": {},
   "outputs": [],
   "source": [
    "# Initialize the Panel Extensions (for Plotly)\n",
    "import panel as pn\n",
    "pn.extension(\"plotly\")"
   ]
  },
  {
   "cell_type": "code",
   "execution_count": null,
   "metadata": {},
   "outputs": [],
   "source": [
    "# Read the Mapbox API key\n",
    "load_dotenv()\n",
    "map_box_api = os.getenv(\"mapbox\")\n",
    "px.set_mapbox_access_token(map_box_api)"
   ]
  },
  {
   "cell_type": "markdown",
   "metadata": {},
   "source": [
    "# Import Data"
   ]
  },
  {
   "cell_type": "code",
   "execution_count": null,
   "metadata": {},
   "outputs": [],
   "source": [
    "# Import the CSVs to Pandas DataFrames\n",
    "file_path = Path(\"Data/toronto_neighbourhoods_census_data.csv\")\n",
    "to_data = pd.read_csv(file_path, index_col=\"year\")\n",
    "\n",
    "file_path = Path(\"Data/toronto_neighbourhoods_coordinates.csv\")\n",
    "df_to = pd.read_csv(file_path)"
   ]
  },
  {
   "cell_type": "code",
   "execution_count": null,
   "metadata": {},
   "outputs": [],
   "source": [
    "to_data.head()"
   ]
  },
  {
   "cell_type": "code",
   "execution_count": null,
   "metadata": {},
   "outputs": [],
   "source": [
    "df_to.head()"
   ]
  },
  {
   "cell_type": "markdown",
   "metadata": {},
   "source": [
    "## Panel Visualizations\n",
    "\n",
    "In this section, you will copy the code for each plot type from your analysis notebook and place it into separate functions that Panel can use to create panes for the dashboard. \n",
    "\n",
    "These functions will convert the plot object to a Panel pane.\n",
    "\n",
    "Be sure to include any DataFrame transformation/manipulation code required along with the plotting code.\n",
    "\n",
    "Return a Panel pane object from each function that can be used to build the dashboard.\n",
    "\n",
    "Note: Remove any `.show()` lines from the code. We want to return the plots instead of showing them. The Panel dashboard will then display the plots."
   ]
  },
  {
   "cell_type": "markdown",
   "metadata": {},
   "source": [
    "### Global available data"
   ]
  },
  {
   "cell_type": "code",
   "execution_count": null,
   "metadata": {},
   "outputs": [],
   "source": [
    "# Getting the data from the top 10 expensive neighbourhoods\n",
    "expensive_house = to_data[[\"neighbourhood\",'single_detached_house','apartment_five_storeys_plus','movable_dwelling','semi_detached_house','row_house','duplex','apartment_five_storeys_less','other_house',\"average_house_value\",\"shelter_costs_owned\",\"shelter_costs_rented\"]].groupby(\"neighbourhood\").mean().sort_values(by='average_house_value',ascending=False)\n",
    "expensive_house = expensive_house[:10]\n",
    "expensive_house"
   ]
  },
  {
   "cell_type": "markdown",
   "metadata": {},
   "source": []
  },
  {
   "cell_type": "code",
   "execution_count": null,
   "metadata": {},
   "outputs": [],
   "source": [
    "# Calculate the mean number of dwelling types units per year\n",
    "dwelling_types_year = to_data[[\"neighbourhood\",'single_detached_house','apartment_five_storeys_plus','movable_dwelling','semi_detached_house','row_house','duplex','apartment_five_storeys_less','other_house']].groupby([to_data.index,\"neighbourhood\"]).sum().reset_index()\n",
    "dwelling_types_year.set_index(\"year\", inplace=True)\n",
    "dwelling_types_year[:5]"
   ]
  },
  {
   "cell_type": "code",
   "execution_count": null,
   "metadata": {},
   "outputs": [],
   "source": [
    "# Calculate the average monthly shelter costs for owned and rented dwellings\n",
    "num_dwelling_type = to_data[['single_detached_house','apartment_five_storeys_plus','movable_dwelling','semi_detached_house','row_house','duplex','apartment_five_storeys_less','other_house']].groupby(to_data.index).sum()\n",
    "num_dwelling_type"
   ]
  },
  {
   "cell_type": "code",
   "execution_count": null,
   "metadata": {},
   "outputs": [],
   "source": [
    "year_2001 = pd.DataFrame(num_dwelling_type.iloc[0,:])\n",
    "year_2001.rename(columns={2001:'num_dwelling'}, inplace=True)\n",
    "\n",
    "year_2006 = pd.DataFrame(num_dwelling_type.iloc[1,:])\n",
    "year_2006.rename(columns={2006:'num_dwelling'}, inplace=True)\n",
    "\n",
    "year_2011 = pd.DataFrame(num_dwelling_type.iloc[2,:])\n",
    "year_2011.rename(columns={2011:'num_dwelling'}, inplace=True)\n",
    "\n",
    "year_2016 = pd.DataFrame(num_dwelling_type.iloc[3,:])\n",
    "year_2016.rename(columns={2016:'num_dwelling'}, inplace=True)"
   ]
  },
  {
   "cell_type": "code",
   "execution_count": null,
   "metadata": {},
   "outputs": [],
   "source": [
    "avg_house_value = to_data[['average_house_value']].groupby(to_data.index).mean()\n",
    "avg_house_value"
   ]
  },
  {
   "cell_type": "code",
   "execution_count": null,
   "metadata": {},
   "outputs": [],
   "source": [
    "shelter_avg_costs = to_data[['shelter_costs_owned', 'shelter_costs_rented']].groupby(to_data.index).mean()\n",
    "\n",
    "shelter_avg_costs"
   ]
  },
  {
   "cell_type": "code",
   "execution_count": null,
   "metadata": {},
   "outputs": [],
   "source": [
    "# Combined data frame\n",
    "neighbourhood =  to_data[['neighbourhood','single_detached_house','apartment_five_storeys_plus','movable_dwelling','semi_detached_house','row_house','duplex','apartment_five_storeys_less','other_house',\"average_house_value\",\"shelter_costs_owned\",\"shelter_costs_rented\"]].groupby(\"neighbourhood\").mean().reset_index()\n",
    "combined_df = pd.concat([df_to.set_index('neighbourhood'),neighbourhood.set_index('neighbourhood')], axis=1, join='inner').reset_index()\n",
    "combined_df.head()"
   ]
  },
  {
   "cell_type": "code",
   "execution_count": null,
   "metadata": {},
   "outputs": [],
   "source": [
    "by_neighbourhood = to_data[['neighbourhood','average_house_value']].groupby([to_data.index,\"neighbourhood\"]).mean().reset_index()\n",
    "by_neighbourhood.set_index('year', inplace=True)\n",
    "by_neighbourhood[:10]"
   ]
  },
  {
   "cell_type": "code",
   "execution_count": null,
   "metadata": {},
   "outputs": [],
   "source": [
    "costs_per_neighbourhood = to_data.filter([\"neighbourhood\",\"shelter_costs_owned\",\"shelter_costs_rented\"], axis =1)\n",
    "costs_per_neighbourhood"
   ]
  },
  {
   "cell_type": "code",
   "execution_count": null,
   "metadata": {},
   "outputs": [],
   "source": [
    "top_neighbourhood = expensive_house.reset_index()\n",
    "top_neighbourhood = top_neighbourhood[\"neighbourhood\"].tolist()\n",
    "top_neighbourhood"
   ]
  },
  {
   "cell_type": "code",
   "execution_count": null,
   "metadata": {},
   "outputs": [],
   "source": [
    "top_neighbourhood_df = costs_per_neighbourhood.query(\"neighbourhood in @top_neighbourhood\")\n",
    "top_neighbourhood_df"
   ]
  },
  {
   "cell_type": "code",
   "execution_count": null,
   "metadata": {},
   "outputs": [],
   "source": [
    "sb_df = top_neighbourhood_df.reset_index()\n",
    "sb_df"
   ]
  },
  {
   "cell_type": "code",
   "execution_count": null,
   "metadata": {},
   "outputs": [],
   "source": [
    "year = sb_df['year']\n",
    "neighbourhood = sb_df['neighbourhood']\n",
    "shelter_costs_owned = sb_df['shelter_costs_owned']\n",
    "shelter_costs_rented = sb_df['shelter_costs_rented']"
   ]
  },
  {
   "cell_type": "code",
   "execution_count": null,
   "metadata": {},
   "outputs": [],
   "source": [
    "# Define Panel visualization functions\n",
    "def neighbourhood_map():\n",
    "    \"\"\"Neighbourhood Map\"\"\"\n",
    "    map_1 = px.scatter_mapbox(\n",
    "    combined_df,\n",
    "    lat=\"lat\",\n",
    "    lon=\"lon\",\n",
    "    color=\"average_house_value\",\n",
    "    size=\"average_house_value\",\n",
    "    color_continuous_scale=px.colors.sequential.Cividis\n",
    "    )\n",
    "    return map_1\n",
    "\n",
    "def create_bar_2001():\n",
    "    bar_plot = year_2001.hvplot.bar(xlabel='2001',ylabel='Dwelling Types in Toronto in 2001',title='Dwelling Types in Toronto in 2001', width=650, height=500, color='red',rot=90).opts(yformatter='%.0f2')\n",
    "    return bar_plot\n",
    "\n",
    "def create_bar_2006():\n",
    "    bar_plot = year_2006.hvplot.bar(xlabel='2001',ylabel='Dwelling Types in Toronto in 2006', title='Dwelling Types in Toronto in 2006',width=650, height=500, color='blue',rot=90).opts(yformatter='%.0f2')\n",
    "    return bar_plot\n",
    "\n",
    "def create_bar_2011():\n",
    "    bar_plot = year_2011.hvplot.bar(xlabel='2001',ylabel='Dwelling Types in Toronto in 2011', title='Dwelling Types in Toronto in 2011',width=650, height=500, color='orange',rot=90).opts(yformatter='%.0f2')\n",
    "    return bar_plot\n",
    "\n",
    "def create_bar_2016():\n",
    "    bar_plot = year_2016.hvplot.bar(xlabel='2001',ylabel='Dwelling Types in Toronto in 2016', title='Dwelling Types in Toronto in 2016',width=650, height=500, color='purple',rot=90).opts(yformatter='%.0f2')\n",
    "    return bar_plot\n",
    "\n",
    "def create_line_chart_owned():\n",
    "    line_plot = shelter_avg_costs['shelter_costs_owned'].hvplot.line(xlabel=\"Year\", ylabel=\"Avg Monthly Shelter Costs\", title='Average Monthly Shelter Costs for owned Dwellling in Toronto',color=\"blue\")\n",
    "    return line_plot\n",
    "\n",
    "def create_line_chart_rented():\n",
    "    line_plot = shelter_avg_costs['shelter_costs_rented'].hvplot.line(xlabel=\"Year\", ylabel=\"Avg Monthly Shelter Costs\",title='Average Monthly Shelter Costs for rented Dwellling in Toronto', color=\"orange\")\n",
    "    return line_plot\n",
    "\n",
    "def average_house_value():\n",
    "    avg_house_plot = avg_house_value['average_house_value'].hvplot.line(xlabel=\"Year\", ylabel=\"Avg Monthly Shelter Costs\",title='Average House Value in Toronto', color=\"Green\")\n",
    "    return avg_house_plot\n",
    "\n",
    "def average_value_by_neighbourhood():\n",
    "    \"\"\"Average house values by neighbourhood.\"\"\"\n",
    "    by_neighbourhood_plot = by_neighbourhood.hvplot(groupby='neighbourhood', xlabel='Year', ylabel='Avg House Value').opts(yformatter=\"%.0f\")\n",
    "    return by_neighbourhood_plot\n",
    "    \n",
    "def number_dwelling_types():\n",
    "    \"\"\"Number of dwelling types per year\"\"\"\n",
    "    dwell_type_plot = dwelling_types_year.hvplot.bar(groupby=\"neighbourhood\", rot=90,width=650, height=500,xlabel='Year', ylabel='Dwelling Types Units')\n",
    "    return dwell_type_plot\n",
    "\n",
    "def average_house_value_snapshot():\n",
    "    \"\"\"Average house value for all Toronto's neighbourhoods per year.\"\"\"\n",
    "    by_neighbourhood_hv = px.bar(by_neighbourhood,x='neighbourhood',y='average_house_value',facet_row=by_neighbourhood.index,title='Average House Values in Toronto per Neighbourhood',height=1200, width=900, hover_data=['average_house_value'], color='average_house_value')\n",
    "    return by_neighbourhood_hv\n",
    "\n",
    "def top_most_expensive_neighbourhoods():\n",
    "    \"\"\"Top 10 most expensive neighbourhoods.\"\"\"\n",
    "    top_10_plot = expensive_house.hvplot.bar(x='neighbourhood', y='average_house_value', rot=90, height=500,title='Top10 Expensive Neighbourhoods in Toronto', xlabel='Neighbourhood', ylabel='Avg House Value')\n",
    "    return top_10_plot\n",
    "\n",
    "def sunburts_cost_analysis():\n",
    "    \"\"\"Sunburst chart to conduct a costs analysis of most expensive neighbourhoods in Toronto per year.\"\"\"\n",
    "    fig = px.sunburst(sb_df, path=[year, neighbourhood],values=shelter_costs_owned,color=shelter_costs_owned,hover_data=[shelter_costs_rented], color_continuous_scale=['red', 'yellow', 'green'],title='Costs Analysis of Most Expensive Neighbourhood in Toronto per Year')\n",
    "    return fig"
   ]
  },
  {
   "cell_type": "code",
   "execution_count": null,
   "metadata": {},
   "outputs": [],
   "source": []
  },
  {
   "cell_type": "markdown",
   "metadata": {},
   "source": [
    "## Panel Dashboard\n",
    "\n",
    "In this section, you will combine all of the plots into a single dashboard view using Panel. Be creative with your dashboard design!"
   ]
  },
  {
   "cell_type": "code",
   "execution_count": null,
   "metadata": {},
   "outputs": [],
   "source": [
    "dashboard_title =\"# Real Estate Analysis for Toronto: 2001 to 2016\"\n",
    "\n",
    "dashboard_welcome =\"The dashboard presents a visual analysis of historical house values, dwelling types per neighbourhood and dwelling costs in Toronto, Ontario from 2001 to 2016\"\n",
    "dashboard_page = pn.Column(dashboard_title, dashboard_welcome, neighbourhood_map())\n",
    "yearly_analysis = pn.Column(create_bar_2001(), create_bar_2006(), create_bar_2011(),create_bar_2016())\n",
    "shelter_home_value = pn.Column(create_line_chart_owned(),create_line_chart_rented(), average_house_value())\n",
    "house_value_dwelling = pn.Column(average_value_by_neighbourhood(), number_dwelling_types(),average_house_value_snapshot())\n",
    "welcome_plot = pn.Column(dashboard_title,dashboard_welcome, neighbourhood_map())\n",
    "expensive_neighbourhood = pn.Column(top_most_expensive_neighbourhoods(), sunburts_cost_analysis())\n",
    "\n",
    "dashboard_tabs = pn.Tabs(             \n",
    "                (\"Home\", dashboard_page),\n",
    "                (\"Yearly Market Analysis\", yearly_analysis),\n",
    "                (\"Shelter Costs vs Home Value\", shelter_home_value),\n",
    "                (\"Neighbourhood Analysis\", house_value_dwelling),\n",
    "                (\"Top Expensive Neighbourhoods\", expensive_neighbourhood)\n",
    ")"
   ]
  },
  {
   "cell_type": "markdown",
   "metadata": {},
   "source": [
    "## Serve the Panel Dashboard"
   ]
  },
  {
   "cell_type": "code",
   "execution_count": null,
   "metadata": {},
   "outputs": [],
   "source": [
    "dashboard_tabs.servable()"
   ]
  },
  {
   "cell_type": "markdown",
   "metadata": {},
   "source": [
    "# Debugging\n",
    "\n",
    "Note: Some of the Plotly express plots may not render in the notebook through the panel functions.\n",
    "\n",
    "However, you can test each plot by uncommenting the following code"
   ]
  },
  {
   "cell_type": "code",
   "execution_count": null,
   "metadata": {},
   "outputs": [],
   "source": [
    "neighbourhood_map().show()"
   ]
  },
  {
   "cell_type": "code",
   "execution_count": null,
   "metadata": {},
   "outputs": [],
   "source": [
    "#create_bar_chart(data, title, xlabel, ylabel, color)\n",
    "\n",
    "# Bar chart for 2001\n",
    "#create_bar_chart(df_dwelling_units.loc[2001], \"Dwelling Types in Toronto in 2001\", \"2001\", \"Dwelling Type Units\", \"red\")\n",
    "\n",
    "# Bar chart for 2006\n",
    "#create_bar_chart(df_dwelling_units.loc[2006], \"Dwelling Types in Toronto in 2006\", \"2006\", \"Dwelling Type Units\", \"blue\")\n",
    "\n",
    "# Bar chart for 2011\n",
    "#create_bar_chart(df_dwelling_units.loc[2011], \"Dwelling Types in Toronto in 2011\", \"2011\", \"Dwelling Type Units\", \"orange\")\n",
    "\n",
    "# Bar chart for 2016\n",
    "#create_bar_chart(df_dwelling_units.loc[2016], \"Dwelling Types in Toronto in 2016\", \"2016\", \"Dwelling Type Units\", \"magenta\")"
   ]
  },
  {
   "cell_type": "code",
   "execution_count": null,
   "metadata": {},
   "outputs": [],
   "source": [
    "# create_line_chart(data, title, xlabel, ylabel, color)\n",
    "\n",
    "# Line chart for owned dwellings\n",
    "# create_line_chart(df_avg_costs[\"shelter_costs_owned\"], \"Average Monthly Shelter Cost for Owned Dwellings in Toronto\", \"Year\", \"Avg Monthly Shelter Costs\", \"blue\")\n",
    "\n",
    "# # Line chart for rented dwellings\n",
    "# create_line_chart(df_avg_costs[\"shelter_costs_rented\"], \"Average Monthly Shelter Cost for Rented Dwellings in Toronto\", \"Year\", \"Avg Monthly Shelter Costs\", \"orange\")"
   ]
  },
  {
   "cell_type": "code",
   "execution_count": null,
   "metadata": {},
   "outputs": [],
   "source": [
    "average_house_value()"
   ]
  },
  {
   "cell_type": "code",
   "execution_count": null,
   "metadata": {},
   "outputs": [],
   "source": [
    "average_value_by_neighbourhood()"
   ]
  },
  {
   "cell_type": "code",
   "execution_count": null,
   "metadata": {},
   "outputs": [],
   "source": [
    "# number_dwelling_types()"
   ]
  },
  {
   "cell_type": "code",
   "execution_count": null,
   "metadata": {},
   "outputs": [],
   "source": [
    "# average_house_value_snapshot()"
   ]
  },
  {
   "cell_type": "code",
   "execution_count": null,
   "metadata": {},
   "outputs": [],
   "source": [
    "# top_most_expensive_neighbourhoods()"
   ]
  },
  {
   "cell_type": "code",
   "execution_count": null,
   "metadata": {},
   "outputs": [],
   "source": [
    "#sunburts_cost_analysis()"
   ]
  },
  {
   "cell_type": "code",
   "execution_count": null,
   "metadata": {},
   "outputs": [],
   "source": []
  }
 ],
 "metadata": {
  "file_extension": ".py",
  "kernelspec": {
   "display_name": "Python [conda env:monstermarts]",
   "language": "python",
   "name": "conda-env-monstermarts-py"
  },
  "language_info": {
   "codemirror_mode": {
    "name": "ipython",
    "version": 3
   },
   "file_extension": ".py",
   "mimetype": "text/x-python",
   "name": "python",
   "nbconvert_exporter": "python",
   "pygments_lexer": "ipython3",
   "version": "3.9.5"
  },
  "mimetype": "text/x-python",
  "name": "python",
  "npconvert_exporter": "python",
  "pygments_lexer": "ipython3",
  "version": 3
 },
 "nbformat": 4,
 "nbformat_minor": 4
}
